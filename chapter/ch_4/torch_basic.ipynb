{
 "cells": [
  {
   "cell_type": "markdown",
   "metadata": {},
   "source": [
    "# 파이토치 기본"
   ]
  },
  {
   "cell_type": "code",
   "execution_count": 2,
   "metadata": {
    "vscode": {
     "languageId": "python"
    }
   },
   "outputs": [
    {
     "name": "stdout",
     "output_type": "stream",
     "text": [
      "1.11.0\n",
      "True\n"
     ]
    }
   ],
   "source": [
    "import torch\n",
    "import numpy as np\n",
    "\n",
    "print(torch.__version__)\n",
    "print(torch.cuda.is_available())"
   ]
  },
  {
   "cell_type": "markdown",
   "metadata": {},
   "source": [
    "## 1. 텐서"
   ]
  },
  {
   "cell_type": "markdown",
   "metadata": {},
   "source": [
    "### 1-1. 여러가지 텐서"
   ]
  },
  {
   "cell_type": "code",
   "execution_count": 3,
   "metadata": {
    "vscode": {
     "languageId": "python"
    }
   },
   "outputs": [
    {
     "name": "stdout",
     "output_type": "stream",
     "text": [
      "x1 :  tensor([[0.0000e+00, 1.8337e+31, 2.6302e+20, 6.1949e-04],\n",
      "        [6.4805e-10, 6.3008e-10, 4.2242e-05, 6.9120e-04],\n",
      "        [6.9369e-07, 1.0721e-08, 6.4097e-10, 1.4580e-19],\n",
      "        [1.1495e+24, 3.0956e-18, 1.5099e-07, 4.2007e-05],\n",
      "        [1.2914e-11, 1.0257e-08, 4.1026e-08, 1.7660e-04]]) \n",
      "\n",
      "x2 :  tensor([[1., 1., 1.],\n",
      "        [1., 1., 1.],\n",
      "        [1., 1., 1.]]) \n",
      "\n",
      "x3 :  tensor([[0., 0.],\n",
      "        [0., 0.]]) \n",
      "\n",
      "x4 :  tensor([[0.7768, 0.3540, 0.9174],\n",
      "        [0.4410, 0.7286, 0.7585]]) \n",
      "\n"
     ]
    }
   ],
   "source": [
    "# 빈 텐서 생성 - 초기화되지 않으면 해당 시점에 할당된 메모리에 존재하던 값이 들어감 \n",
    "x1 = torch.empty(5,4)\n",
    "print('x1 : ',x1,'\\n')\n",
    "\n",
    "# 1로 채워진 텐서 생성 \n",
    "x2 = torch.ones(3,3)\n",
    "print('x2 : ',x2,'\\n')\n",
    "\n",
    "# 0으로 채워진 텐서 생성 \n",
    "x3 = torch.zeros(2,2)\n",
    "print('x3 : ',x3,'\\n')\n",
    "\n",
    "# 무작위값 텐서 생성 ( 0 ~ 1 사잇값 )\n",
    "x4 = torch.rand(2,3)\n",
    "print('x4 : ',x4,'\\n')"
   ]
  },
  {
   "cell_type": "markdown",
   "metadata": {},
   "source": [
    "### 1-2. 리스트, 넘파이 배열 to Tensor\n",
    "\n",
    "`torch.tensor()`를 통해 tensor로 변환이 가능하며   \n",
    "`torch.FloatTensor()`나 `torch.LongTensor()`를 통해서도 가능하다. "
   ]
  },
  {
   "cell_type": "code",
   "execution_count": 4,
   "metadata": {
    "vscode": {
     "languageId": "python"
    }
   },
   "outputs": [
    {
     "name": "stdout",
     "output_type": "stream",
     "text": [
      "<class 'list'>\n",
      "<class 'numpy.ndarray'>\n",
      "---to tensor---\n",
      "<class 'torch.Tensor'>\n",
      "<class 'torch.Tensor'>\n"
     ]
    }
   ],
   "source": [
    "l = [13,4]\n",
    "r = np.array([4,56,7])\n",
    "print(type(l))\n",
    "print(type(r))\n",
    "\n",
    "print('---to tensor---')\n",
    "\n",
    "l = torch.tensor(l)\n",
    "r = torch.tensor(r)\n",
    "print(type(l))\n",
    "print(type(r))\n"
   ]
  },
  {
   "cell_type": "markdown",
   "metadata": {},
   "source": [
    "### 1-3. 텐서의 크기,타입, 연산\n",
    "\n",
    "`.size()`는 텐서의 크기를 확인할 때 자주 사용한다.  \n",
    "\n",
    "텐서의 연산은 넘파이에서의 연산과 매우 비슷하다. 추가적으로 편리한 기능들이 있다. "
   ]
  },
  {
   "cell_type": "code",
   "execution_count": 11,
   "metadata": {
    "vscode": {
     "languageId": "python"
    }
   },
   "outputs": [
    {
     "name": "stdout",
     "output_type": "stream",
     "text": [
      "x1 : tensor([[0.0000e+00, 1.8337e+31, 2.6302e+20, 6.1949e-04],\n",
      "        [6.4805e-10, 6.3008e-10, 4.2242e-05, 6.9120e-04],\n",
      "        [6.9369e-07, 1.0721e-08, 6.4097e-10, 1.4580e-19],\n",
      "        [1.1495e+24, 3.0956e-18, 1.5099e-07, 4.2007e-05],\n",
      "        [1.2914e-11, 1.0257e-08, 4.1026e-08, 1.7660e-04]]) \n",
      "\n",
      "x1 size : torch.Size([5, 4]) \n",
      "\n",
      "x1 type : <class 'torch.Tensor'>\n"
     ]
    }
   ],
   "source": [
    "print('x1 :',x1,'\\n')\n",
    "print('x1 size :',x1.size(),'\\n')\n",
    "print('x1 type :',type(x1))"
   ]
  },
  {
   "cell_type": "code",
   "execution_count": 24,
   "metadata": {
    "vscode": {
     "languageId": "python"
    }
   },
   "outputs": [],
   "source": [
    "x = torch.rand(2,2)\n",
    "y = torch.rand(2,2)"
   ]
  },
  {
   "cell_type": "code",
   "execution_count": 25,
   "metadata": {
    "vscode": {
     "languageId": "python"
    }
   },
   "outputs": [
    {
     "name": "stdout",
     "output_type": "stream",
     "text": [
      "tensor([[0.5897, 0.3523],\n",
      "        [1.5219, 1.0029]])\n",
      "tensor([[0.5897, 0.3523],\n",
      "        [1.5219, 1.0029]])\n",
      "tensor([[0.5897, 0.3523],\n",
      "        [1.5219, 1.0029]])\n"
     ]
    }
   ],
   "source": [
    "# 아래 방법 모두 같은 결과를 return 함 \n",
    "print(x + y)\n",
    "print(torch.add(x,y))\n",
    "print(y.add(x)) "
   ]
  },
  {
   "cell_type": "code",
   "execution_count": 26,
   "metadata": {
    "vscode": {
     "languageId": "python"
    }
   },
   "outputs": [
    {
     "name": "stdout",
     "output_type": "stream",
     "text": [
      "tensor([[0.5897, 0.3523],\n",
      "        [1.5219, 1.0029]])\n"
     ]
    }
   ],
   "source": [
    "# .함수_()의 형태로 사용하면 함수를 수행하고 .앞의(왼쪽의) 객체에 결과값을 저장하여 반환한다. \n",
    "y.add_(x)\n",
    "print(y)"
   ]
  },
  {
   "cell_type": "markdown",
   "metadata": {},
   "source": [
    "### 1-4. 텐서의 크기 변환"
   ]
  },
  {
   "cell_type": "code",
   "execution_count": 30,
   "metadata": {
    "vscode": {
     "languageId": "python"
    }
   },
   "outputs": [
    {
     "name": "stdout",
     "output_type": "stream",
     "text": [
      "torch.Size([8, 8])\n",
      "torch.Size([8, 8])\n",
      "tensor([[0.9417, 0.8784, 0.7666, 0.5513, 0.2317, 0.9880, 0.7830, 0.2894],\n",
      "        [0.5370, 0.1044, 0.2566, 0.8592, 0.8769, 0.4383, 0.1077, 0.5775],\n",
      "        [0.7729, 0.2749, 0.1776, 0.1732, 0.4010, 0.7537, 0.2399, 0.2734],\n",
      "        [0.8536, 0.2177, 0.4392, 0.0386, 0.3541, 0.2022, 0.5426, 0.7451],\n",
      "        [0.9505, 0.5393, 0.9083, 0.2313, 0.1524, 0.3411, 0.3587, 0.5621],\n",
      "        [0.5288, 0.1073, 0.0809, 0.0274, 0.1622, 0.4711, 0.9259, 0.8360],\n",
      "        [0.5212, 0.5250, 0.2365, 0.9296, 0.6929, 0.1263, 0.3124, 0.5648],\n",
      "        [0.0171, 0.4686, 0.8744, 0.1601, 0.5393, 0.6007, 0.2609, 0.6567]])\n"
     ]
    }
   ],
   "source": [
    "x = torch.rand(8,8)\n",
    "print(x.shape)\n",
    "print(x.size())\n",
    "print(x)"
   ]
  },
  {
   "cell_type": "code",
   "execution_count": 34,
   "metadata": {
    "vscode": {
     "languageId": "python"
    }
   },
   "outputs": [
    {
     "name": "stdout",
     "output_type": "stream",
     "text": [
      "torch.Size([64])\n",
      "torch.Size([4, 4, 4])\n"
     ]
    }
   ],
   "source": [
    "a = x.view(64) # 8 x 8 -> 64\n",
    "print(a.size())\n",
    "\n",
    "b = x.view(-1,4,4) # -1은 알맞는 값으로 알아서 채워줌 \n",
    "print(b.size())"
   ]
  },
  {
   "cell_type": "markdown",
   "metadata": {},
   "source": [
    "### 1-5. 텐서에서 넘파이 배열로 변환 \n",
    "\n",
    "`.numpy()`를 이용하여 텐서를 넘파이 배열로 변환 가능하다. "
   ]
  },
  {
   "cell_type": "code",
   "execution_count": 36,
   "metadata": {
    "vscode": {
     "languageId": "python"
    }
   },
   "outputs": [
    {
     "name": "stdout",
     "output_type": "stream",
     "text": [
      "<class 'torch.Tensor'>\n",
      "<class 'numpy.ndarray'>\n"
     ]
    }
   ],
   "source": [
    "x = torch.rand(8,8)\n",
    "print(type(x))\n",
    "y = x.numpy()\n",
    "print(type(y))"
   ]
  },
  {
   "cell_type": "markdown",
   "metadata": {},
   "source": [
    "### 1-6. 단일 텐서(1,)에서 값으로 반환하기\n",
    "\n",
    "`.item()`을 사용하여 size가 (1,)인 텐서에서 스칼라값을 추출해 준다. "
   ]
  },
  {
   "cell_type": "code",
   "execution_count": 40,
   "metadata": {
    "vscode": {
     "languageId": "python"
    }
   },
   "outputs": [
    {
     "name": "stdout",
     "output_type": "stream",
     "text": [
      "tensor([1.])\n",
      "1.0\n"
     ]
    }
   ],
   "source": [
    "x = torch.ones(1)\n",
    "print(x)\n",
    "print(x.item())"
   ]
  },
  {
   "cell_type": "markdown",
   "metadata": {},
   "source": [
    "## 2. 역전파 "
   ]
  },
  {
   "cell_type": "markdown",
   "metadata": {},
   "source": [
    "### 2-1. Gradient Tensor \n",
    "\n"
   ]
  }
 ],
 "metadata": {
  "interpreter": {
   "hash": "c67384690aacdcb3a89078affff7a8b1615538daeccbff8c2a37b63793d076f9"
  },
  "kernelspec": {
   "display_name": "torch",
   "language": "python",
   "name": "torch"
  },
  "orig_nbformat": 4
 },
 "nbformat": 4,
 "nbformat_minor": 2
}
