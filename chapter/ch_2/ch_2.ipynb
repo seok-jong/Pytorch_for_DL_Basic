{
 "cells": [
  {
   "cell_type": "markdown",
   "metadata": {},
   "source": [
    "# Python \n",
    "\n",
    "> 이번 챕터는 python에 대한 설명이므로 너무 기본적인 내용은 생략하도록 합니다. "
   ]
  },
  {
   "cell_type": "markdown",
   "metadata": {},
   "source": [
    "## Function and Module\n",
    "\n",
    "함수는 코드상에서 어떠한 기능이 반복적으로 사용된다면 불필요한 반복적인 코드작성을 피하기 위해 사용된다.   \n",
    "\n",
    "이러한 함수나 전역 변수가 많아지게 되면 한 파일의 내용이 너무 복잡하고 가독성또한 떨어지며, 지속적인 관리에 있어서 불편함이 동반된다.  \n",
    "\n",
    "따라서 동일한 기능을 하는 함수들이나 따로 관리할 경우 편리함이 있는 내용을들을 Module로써 관리며하게되면 관리의 편리함과 가독성을 향상시킬 수 있다.   \n"
   ]
  },
  {
   "cell_type": "code",
   "execution_count": 1,
   "metadata": {},
   "outputs": [
    {
     "name": "stdout",
     "output_type": "stream",
     "text": [
      "1\n",
      "2\n"
     ]
    }
   ],
   "source": [
    "import test\n",
    "\n",
    "x = 1\n",
    "y = 2\n",
    "\n",
    "test.test_f(x,y)"
   ]
  },
  {
   "cell_type": "code",
   "execution_count": 10,
   "metadata": {},
   "outputs": [
    {
     "name": "stdout",
     "output_type": "stream",
     "text": [
      "3\n",
      "2\n"
     ]
    }
   ],
   "source": [
    "import cal_pkg\n",
    "\n",
    "print(cal_pkg.add.add_f(x,y))\n",
    "print(cal_pkg.mul.mul_f(x,y))"
   ]
  }
 ],
 "metadata": {
  "interpreter": {
   "hash": "c67384690aacdcb3a89078affff7a8b1615538daeccbff8c2a37b63793d076f9"
  },
  "kernelspec": {
   "display_name": "Python 3.9.12 ('torch')",
   "language": "python",
   "name": "python3"
  },
  "language_info": {
   "codemirror_mode": {
    "name": "ipython",
    "version": 3
   },
   "file_extension": ".py",
   "mimetype": "text/x-python",
   "name": "python",
   "nbconvert_exporter": "python",
   "pygments_lexer": "ipython3",
   "version": "3.9.12"
  },
  "orig_nbformat": 4
 },
 "nbformat": 4,
 "nbformat_minor": 2
}
