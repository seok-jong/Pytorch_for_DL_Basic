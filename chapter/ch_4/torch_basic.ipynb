{
 "cells": [
  {
   "cell_type": "markdown",
   "metadata": {},
   "source": [
    "# 파이토치 기본"
   ]
  },
  {
   "cell_type": "code",
   "execution_count": 1,
   "metadata": {},
   "outputs": [
    {
     "name": "stdout",
     "output_type": "stream",
     "text": [
      "1.11.0\n",
      "True\n"
     ]
    }
   ],
   "source": [
    "import torch\n",
    "import numpy as np\n",
    "\n",
    "print(torch.__version__)\n",
    "print(torch.cuda.is_available())"
   ]
  },
  {
   "cell_type": "markdown",
   "metadata": {},
   "source": [
    "##  1.텐서"
   ]
  },
  {
   "cell_type": "markdown",
   "metadata": {},
   "source": [
    "\n",
    "### 1-1. 여러가지 텐서"
   ]
  },
  {
   "cell_type": "code",
   "execution_count": 4,
   "metadata": {},
   "outputs": [
    {
     "name": "stdout",
     "output_type": "stream",
     "text": [
      "x1 :  tensor([[0.0000e+00, 0.0000e+00, 0.0000e+00, 0.0000e+00],\n",
      "        [0.0000e+00, 0.0000e+00, 0.0000e+00, 0.0000e+00],\n",
      "        [0.0000e+00, 0.0000e+00, 1.4013e-45, 0.0000e+00],\n",
      "        [0.0000e+00, 0.0000e+00, 0.0000e+00, 0.0000e+00],\n",
      "        [0.0000e+00, 0.0000e+00, 0.0000e+00, 0.0000e+00]]) \n",
      "\n",
      "x2 :  tensor([[1., 1., 1.],\n",
      "        [1., 1., 1.],\n",
      "        [1., 1., 1.]]) \n",
      "\n",
      "x3 :  tensor([[0., 0.],\n",
      "        [0., 0.]]) \n",
      "\n",
      "x4 :  tensor([[0.7786, 0.8177, 0.1133],\n",
      "        [0.2672, 0.8514, 0.0934]]) \n",
      "\n"
     ]
    }
   ],
   "source": [
    "# 빈 텐서 생성 - 초기화되지 않으면 해당 시점에 할당된 메모리에 존재하던 값이 들어감 \n",
    "x1 = torch.empty(5,4)\n",
    "print('x1 : ',x1,'\\n')\n",
    "\n",
    "# 1로 채워진 텐서 생성 \n",
    "x2 = torch.ones(3,3)\n",
    "print('x2 : ',x2,'\\n')\n",
    "\n",
    "# 0으로 채워진 텐서 생성 \n",
    "x3 = torch.zeros(2,2)\n",
    "print('x3 : ',x3,'\\n')\n",
    "\n",
    "# 무작위값 텐서 생성 ( 0 ~ 1 사잇값 )\n",
    "x4 = torch.rand(2,3)\n",
    "print('x4 : ',x4,'\\n')\n",
    "\n"
   ]
  },
  {
   "cell_type": "markdown",
   "metadata": {},
   "source": [
    "### 1-2. 리스트, 넘파이 배열 to Tensor\n",
    "\n",
    "`torch.tensor()`를 통해 tensor로 변환이 가능하며   \n",
    "`torch.FloatTensor()`나 `torch.LongTensor()`를 통해서도 가능하다. "
   ]
  },
  {
   "cell_type": "code",
   "execution_count": 3,
   "metadata": {},
   "outputs": [
    {
     "name": "stdout",
     "output_type": "stream",
     "text": [
      "<class 'list'>\n",
      "<class 'numpy.ndarray'>\n",
      "---to tensor---\n",
      "<class 'torch.Tensor'>\n",
      "<class 'torch.Tensor'>\n"
     ]
    }
   ],
   "source": [
    "l = [13,4]\n",
    "r = np.array([4,56,7])\n",
    "print(type(l))\n",
    "print(type(r))\n",
    "\n",
    "print('---to tensor---')\n",
    "\n",
    "l = torch.tensor(l)\n",
    "r = torch.tensor(r)\n",
    "print(type(l))\n",
    "print(type(r))\n"
   ]
  },
  {
   "cell_type": "markdown",
   "metadata": {},
   "source": [
    "### 1-3. 텐서의 크기,타입, 연산\n",
    "\n",
    "`.size()`는 텐서의 크기를 확인할 때 자주 사용한다.  \n",
    "\n",
    "텐서의 연산은 넘파이에서의 연산과 매우 비슷하다. 추가적으로 편리한 기능들이 있다. "
   ]
  },
  {
   "cell_type": "code",
   "execution_count": 10,
   "metadata": {},
   "outputs": [
    {
     "name": "stdout",
     "output_type": "stream",
     "text": [
      "x1 : tensor([[0.0000e+00, 0.0000e+00, 0.0000e+00, 0.0000e+00],\n",
      "        [0.0000e+00, 0.0000e+00, 0.0000e+00, 0.0000e+00],\n",
      "        [0.0000e+00, 0.0000e+00, 1.4013e-45, 0.0000e+00],\n",
      "        [0.0000e+00, 0.0000e+00, 0.0000e+00, 0.0000e+00],\n",
      "        [0.0000e+00, 0.0000e+00, 0.0000e+00, 0.0000e+00]]) \n",
      "\n",
      "x1 size : torch.Size([5, 4]) \n",
      "\n",
      "x1 type : <class 'torch.Tensor'>\n"
     ]
    }
   ],
   "source": [
    "print('x1 :',x1,'\\n')\n",
    "print('x1 size :',x1.size(),'\\n')\n",
    "print('x1 type :',type(x1))"
   ]
  },
  {
   "cell_type": "code",
   "execution_count": 11,
   "metadata": {},
   "outputs": [],
   "source": [
    "x = torch.rand(2,2)\n",
    "y = torch.rand(2,2)"
   ]
  },
  {
   "cell_type": "code",
   "execution_count": 12,
   "metadata": {},
   "outputs": [
    {
     "name": "stdout",
     "output_type": "stream",
     "text": [
      "tensor([[0.7310, 1.0919],\n",
      "        [1.1280, 0.6940]])\n",
      "tensor([[0.7310, 1.0919],\n",
      "        [1.1280, 0.6940]])\n",
      "tensor([[0.7310, 1.0919],\n",
      "        [1.1280, 0.6940]])\n"
     ]
    }
   ],
   "source": [
    "# 아래 방법 모두 같은 결과를 return 함 \n",
    "print(x + y)\n",
    "print(torch.add(x,y))\n",
    "print(y.add(x)) "
   ]
  },
  {
   "cell_type": "code",
   "execution_count": 13,
   "metadata": {},
   "outputs": [
    {
     "name": "stdout",
     "output_type": "stream",
     "text": [
      "tensor([[0.7310, 1.0919],\n",
      "        [1.1280, 0.6940]])\n"
     ]
    }
   ],
   "source": [
    "# .함수_()의 형태로 사용하면 함수를 수행하고 .앞의(왼쪽의) 객체에 결과값을 저장하여 반환한다. \n",
    "y.add_(x)\n",
    "print(y)"
   ]
  },
  {
   "cell_type": "markdown",
   "metadata": {},
   "source": [
    "### 1-4. 텐서의 크기 변환"
   ]
  },
  {
   "cell_type": "code",
   "execution_count": 14,
   "metadata": {},
   "outputs": [
    {
     "name": "stdout",
     "output_type": "stream",
     "text": [
      "torch.Size([8, 8])\n",
      "torch.Size([8, 8])\n",
      "tensor([[0.7383, 0.9801, 0.6512, 0.0753, 0.2815, 0.3412, 0.0359, 0.2854],\n",
      "        [0.0586, 0.8836, 0.1280, 0.9286, 0.9822, 0.9460, 0.2073, 0.3830],\n",
      "        [0.7138, 0.8420, 0.4683, 0.9938, 0.5137, 0.2542, 0.6821, 0.4033],\n",
      "        [0.6936, 0.0728, 0.3691, 0.6922, 0.6833, 0.6820, 0.3953, 0.6213],\n",
      "        [0.4747, 0.6235, 0.0868, 0.3041, 0.5113, 0.3240, 0.4327, 0.3000],\n",
      "        [0.6861, 0.2921, 0.4406, 0.7030, 0.8910, 0.2494, 0.0833, 0.8865],\n",
      "        [0.2678, 0.5873, 0.0479, 0.8481, 0.6336, 0.7286, 0.3934, 0.1495],\n",
      "        [0.0945, 0.8481, 0.8700, 0.4341, 0.5402, 0.2315, 0.1194, 0.0295]])\n"
     ]
    }
   ],
   "source": [
    "x = torch.rand(8,8)\n",
    "print(x.shape)\n",
    "print(x.size())\n",
    "print(x)"
   ]
  },
  {
   "cell_type": "code",
   "execution_count": 15,
   "metadata": {},
   "outputs": [
    {
     "name": "stdout",
     "output_type": "stream",
     "text": [
      "torch.Size([64])\n",
      "torch.Size([4, 4, 4])\n"
     ]
    }
   ],
   "source": [
    "a = x.view(64) # 8 x 8 -> 64\n",
    "print(a.size())\n",
    "\n",
    "b = x.view(-1,4,4) # -1은 알맞는 값으로 알아서 채워줌 \n",
    "print(b.size())"
   ]
  },
  {
   "cell_type": "markdown",
   "metadata": {},
   "source": [
    "### 1-5. 텐서에서 넘파이 배열로 변환 \n",
    "\n",
    "`.numpy()`를 이용하여 텐서를 넘파이 배열로 변환 가능하다. "
   ]
  },
  {
   "cell_type": "code",
   "execution_count": 36,
   "metadata": {},
   "outputs": [
    {
     "name": "stdout",
     "output_type": "stream",
     "text": [
      "<class 'torch.Tensor'>\n",
      "<class 'numpy.ndarray'>\n"
     ]
    }
   ],
   "source": [
    "x = torch.rand(8,8)\n",
    "print(type(x))\n",
    "y = x.numpy()\n",
    "print(type(y))"
   ]
  },
  {
   "cell_type": "markdown",
   "metadata": {},
   "source": [
    "### 1-6. 단일 텐서(1,)에서 값으로 반환하기\n",
    "\n",
    "`.item()`을 사용하여 size가 (1,)인 텐서에서 스칼라값을 추출해 준다. "
   ]
  },
  {
   "cell_type": "code",
   "execution_count": 40,
   "metadata": {},
   "outputs": [
    {
     "name": "stdout",
     "output_type": "stream",
     "text": [
      "tensor([1.])\n",
      "1.0\n"
     ]
    }
   ],
   "source": [
    "x = torch.ones(1)\n",
    "print(x)\n",
    "print(x.item())"
   ]
  },
  {
   "cell_type": "markdown",
   "metadata": {},
   "source": [
    "## 2.역전파 "
   ]
  },
  {
   "cell_type": "markdown",
   "metadata": {},
   "source": [
    "### 2-1. Gradient Tensor \n",
    "\n"
   ]
  },
  {
   "cell_type": "markdown",
   "metadata": {},
   "source": [
    "`requires_grad = True`는 해당 텐서를 기준으로 모든 연산들을 추적하여 `그래디언트`라고 하는 미분값의 모임을 계산할 수 있게 한다. "
   ]
  },
  {
   "cell_type": "code",
   "execution_count": 20,
   "metadata": {},
   "outputs": [
    {
     "name": "stdout",
     "output_type": "stream",
     "text": [
      "Result:  tensor(8., grad_fn=<MeanBackward0>)\n",
      "Result:  tensor([[8., 8.],\n",
      "        [8., 8.]], grad_fn=<MulBackward0>)\n"
     ]
    }
   ],
   "source": [
    "import torch\n",
    "\n",
    "# equires_grad = True를 설정하여 x를 기준으로 미분값을 기억하게 한다. \n",
    "x = torch.ones(2,2,requires_grad = True)\n",
    "y = x+1\n",
    "z = 2*y**2\n",
    "r = z.mean()\n",
    "print(\"Result: \",r)\n",
    "print(\"Result: \",z)"
   ]
  },
  {
   "cell_type": "code",
   "execution_count": 21,
   "metadata": {},
   "outputs": [
    {
     "name": "stdout",
     "output_type": "stream",
     "text": [
      "tensor([[2., 2.],\n",
      "        [2., 2.]])\n"
     ]
    }
   ],
   "source": [
    "r.backward()\n",
    "print(x.grad)"
   ]
  },
  {
   "cell_type": "markdown",
   "metadata": {},
   "source": [
    "### 2-2. 자동 미분 - 선형회귀식 \n",
    "\n"
   ]
  },
  {
   "cell_type": "code",
   "execution_count": 59,
   "metadata": {},
   "outputs": [],
   "source": [
    "# torch와 그래프를 그리기위한 pyplot\n",
    "import torch\n",
    "\n",
    "\n",
    "# Float형태의 Tensor를 만들어준다. 이때 range(5)라는 list를 Tensor로 바꿔주고 unsqueeze()를 통해 차원을 늘려준다. \n",
    "x = torch.FloatTensor(range(5)).unsqueeze(1)\n",
    "\n",
    "# y 는 결과값으로 임의로 5개의 값을 만들어준다. \n",
    "y = 2*x+torch.rand(5,1)\n",
    "\n",
    "# 변수의 갯수(Feature의 갯수)를 저장하는 변수 \n",
    "num_features = x.shape[1]"
   ]
  },
  {
   "cell_type": "code",
   "execution_count": 60,
   "metadata": {},
   "outputs": [],
   "source": [
    "\n",
    "# x와 곱해져야 하므로 (1,1)크기의 w(가중치)를 만든다. \n",
    "w = torch.randn(num_features,1,requires_grad = True)\n",
    "# w에 더해지는 편향으로 (1,1)에 더해지며 모든 인스턴스에 동일한 값이 더해지므로 1의 크기로 설정해 준다. \n",
    "b = torch.randn(1,requires_grad=True)\n",
    "\n",
    "# 학습되는 것은 input데이터나 output데이터가 아니라 가중치와 편향이기 때문에 requires_grad 값을 넣어준다. "
   ]
  },
  {
   "cell_type": "code",
   "execution_count": 61,
   "metadata": {},
   "outputs": [],
   "source": [
    "# 학습을 위해 필요한 하이퍼파라미터를 설정해 준다. \n",
    "# learning rate와 optimizer를 설정해 준다. \n",
    "learning_rate = 1e-3\n",
    "optimizer = torch.optim.SGD([w,b], lr = learning_rate)\n",
    "\n",
    "# https://pytorch.org/docs/stable/optim.html"
   ]
  },
  {
   "cell_type": "code",
   "execution_count": 62,
   "metadata": {},
   "outputs": [
    {
     "name": "stdout",
     "output_type": "stream",
     "text": [
      "Epoch 0:73.69173431396484\n",
      "Epoch 100:4.999112129211426\n",
      "Epoch 200:0.37550145387649536\n",
      "Epoch 300:0.06321201473474503\n",
      "Epoch 400:0.041159022599458694\n",
      "Epoch 500:0.038753002882003784\n",
      "Epoch 600:0.03777275234460831\n",
      "Epoch 700:0.03698057681322098\n",
      "Epoch 800:0.03628288209438324\n",
      "Epoch 900:0.035663947463035583\n",
      "Epoch 1000:0.03511476889252663\n"
     ]
    }
   ],
   "source": [
    "loss_stack = []\n",
    "\n",
    "# for문을 이용해 epoch 설정\n",
    "for epoch in range(1001):\n",
    "    \n",
    "    # optim에 설정된 grad를 모두 초기화 - grad값은 누적되기 때문\n",
    "    optimizer.zero_grad()\n",
    "\n",
    "    # 순전파 시행 \n",
    "    y_hat = torch.matmul(x,w)+b\n",
    "\n",
    "    # loss 값 계산 - MSE(평균 제곱 오차)\n",
    "    loss = torch.mean((y_hat-y)**2)\n",
    "\n",
    "    # 계산된 loss로부터 backwad(역전파)하여 grad값을 계산\n",
    "    loss.backward()\n",
    "\n",
    "    # 계산된 grad를 w와 b에 대해 최적화 시행 \n",
    "    optimizer.step()\n",
    "\n",
    "    # loss값을 모니터링하기 위해 list에 저장 \n",
    "    loss_stack.append(loss.item())\n",
    "\n",
    "    if epoch % 100 ==0:\n",
    "        print(f'Epoch {epoch}:{loss.item()}')\n",
    "\n",
    "        "
   ]
  },
  {
   "cell_type": "code",
   "execution_count": 63,
   "metadata": {},
   "outputs": [],
   "source": [
    "with torch.no_grad():\n",
    "    y_hat = torch.matmul(x,w)+b"
   ]
  },
  {
   "cell_type": "code",
   "execution_count": 64,
   "metadata": {},
   "outputs": [
    {
     "data": {
      "image/png": "[encoded data removed]",
      "text/plain": [
       "<Figure size 720x360 with 2 Axes>"
      ]
     },
     "metadata": {
      "needs_background": "light"
     },
     "output_type": "display_data"
    }
   ],
   "source": [
    "from matplotlib import pyplot as plt\n",
    "\n",
    "plt.figure(figsize=(10,5))\n",
    "plt.subplot(121)\n",
    "plt.plot(loss_stack)\n",
    "plt.title(\"Loss\")\n",
    "plt.subplot(122)\n",
    "plt.plot(x,y,'.b')\n",
    "plt.plot(x,y_hat,'r-')\n",
    "plt.legend(['ground truth','prediction'])\n",
    "plt.title('Prediction')\n",
    "plt.show()"
   ]
  },
  {
   "cell_type": "markdown",
   "metadata": {},
   "source": [
    "## 3.데이터 불러오기\n",
    "\n",
    "데이터를 배치 형태로 만드는 법과 데이터를 전처리하는 방법에 대해서 알아본다. "
   ]
  },
  {
   "cell_type": "markdown",
   "metadata": {},
   "source": [
    "### 3-1.파이토치 제공 데이터 사용 "
   ]
  },
  {
   "cell_type": "code",
   "execution_count": 3,
   "metadata": {},
   "outputs": [],
   "source": [
    "import torch # torch 기본 라이브러리\n",
    "import torchvision # 이미지 관련 torch 라이브러리\n",
    "import torchvision.transforms as tr # 이미지 전처리 기능 라이브러리\n",
    "from torch.utils.data import DataLoader, Dataset # 데이터를 모델에 사용할 수 있도록 정리해 주는 라이브러리\n",
    "import numpy as np\n",
    "import matplotlib.pyplot as plt\n"
   ]
  },
  {
   "cell_type": "code",
   "execution_count": 91,
   "metadata": {},
   "outputs": [],
   "source": [
    "# transforms를 사용해 전처리할 작업을 list로 작성한다. \n",
    "transf = tr.Compose([tr.Resize(16),tr.ToTensor()])"
   ]
  },
  {
   "cell_type": "code",
   "execution_count": 89,
   "metadata": {},
   "outputs": [],
   "source": [
    "trainset = torchvision.datasets.CIFAR10(root='../../data',train = True,transform = transf)\n",
    "\n",
    "testset = torchvision.datasets.CIFAR10(root='../../data',train = False,transform = transf)"
   ]
  },
  {
   "cell_type": "code",
   "execution_count": 94,
   "metadata": {},
   "outputs": [
    {
     "name": "stdout",
     "output_type": "stream",
     "text": [
      "50000\n",
      "torch.Size([3, 16, 16])\n"
     ]
    }
   ],
   "source": [
    "# 채널 x 너비 x 높이\n",
    "print(len(trainset))\n",
    "print(trainset[0][0].size())"
   ]
  },
  {
   "cell_type": "code",
   "execution_count": 95,
   "metadata": {},
   "outputs": [],
   "source": [
    "trainloader = DataLoader(trainset,batch_size=50,shuffle=True)\n",
    "testloader = DataLoader(testset, batch_size = 50,shuffle = False)\n"
   ]
  },
  {
   "cell_type": "code",
   "execution_count": 96,
   "metadata": {},
   "outputs": [
    {
     "data": {
      "text/plain": [
       "1000"
      ]
     },
     "execution_count": 96,
     "metadata": {},
     "output_type": "execute_result"
    }
   ],
   "source": [
    "len(trainloader)"
   ]
  },
  {
   "cell_type": "code",
   "execution_count": 97,
   "metadata": {},
   "outputs": [
    {
     "name": "stdout",
     "output_type": "stream",
     "text": [
      "torch.Size([50, 3, 16, 16])\n"
     ]
    }
   ],
   "source": [
    "images,labels = iter(trainloader).next()\n",
    "print(images.size())"
   ]
  },
  {
   "cell_type": "code",
   "execution_count": 105,
   "metadata": {},
   "outputs": [
    {
     "data": {
      "image/png": "[encoded data removed]",
      "text/plain": [
       "<Figure size 432x288 with 1 Axes>"
      ]
     },
     "metadata": {
      "needs_background": "light"
     },
     "output_type": "display_data"
    }
   ],
   "source": [
    "#Teonsor.permute()는 차원의 순서를 바꿔준다. / c x w x h -> w x h x c\n",
    "oneshot = images[1].permute(1,2,0).numpy()\n",
    "# plt.figure(figsize = (2,2))\n",
    "plt.imshow(oneshot)\n",
    "# plt.axis(\"off\")\n",
    "plt.show()"
   ]
  },
  {
   "cell_type": "markdown",
   "metadata": {},
   "source": [
    "### 3-2.같은 클래스 별로 폴더를 정리한 경우 \n",
    "\n",
    "데이터셋을 구성할 때, pytorch에서 제공하지 않은 개인 데이터셋을 사용할 수 있는데 이 경우에는 특별한 조치가 필요하다.\n",
    "\n",
    "먼저 같은 클래스 별로 폴더가 정리되어 있다면 이전에 `torchvision.datasets.ImageFolder`를 사용해 쉽게 불러오는 것이 가능하며 \n",
    "라벨링또한 자동으로 정리된다. 예시코드는 아래와 같다. \n"
   ]
  },
  {
   "cell_type": "code",
   "execution_count": 4,
   "metadata": {},
   "outputs": [
    {
     "ename": "RuntimeError",
     "evalue": "Dataset not found or corrupted. You can use download=True to download it",
     "output_type": "error",
     "traceback": [
      "\u001b[0;31m---------------------------------------------------------------------------\u001b[0m",
      "\u001b[0;31mRuntimeError\u001b[0m                              Traceback (most recent call last)",
      "\u001b[1;32m/home/seokjong/DL/torch_basic/chapter/ch_4/torch_basic.ipynb Cell 43'\u001b[0m in \u001b[0;36m<cell line: 2>\u001b[0;34m()\u001b[0m\n\u001b[1;32m      <a href='vscode-notebook-cell:/home/seokjong/DL/torch_basic/chapter/ch_4/torch_basic.ipynb#ch0000042?line=0'>1</a>\u001b[0m transf \u001b[39m=\u001b[39m tr\u001b[39m.\u001b[39mCompose([tr\u001b[39m.\u001b[39mResize(\u001b[39m128\u001b[39m),tr\u001b[39m.\u001b[39mToTensor()])\n\u001b[0;32m----> <a href='vscode-notebook-cell:/home/seokjong/DL/torch_basic/chapter/ch_4/torch_basic.ipynb#ch0000042?line=1'>2</a>\u001b[0m trainset \u001b[39m=\u001b[39m torchvision\u001b[39m.\u001b[39;49mdatasets\u001b[39m.\u001b[39;49mCIFAR10(root\u001b[39m=\u001b[39;49m\u001b[39m'\u001b[39;49m\u001b[39m./class\u001b[39;49m\u001b[39m'\u001b[39;49m, transform \u001b[39m=\u001b[39;49m transf)\n\u001b[1;32m      <a href='vscode-notebook-cell:/home/seokjong/DL/torch_basic/chapter/ch_4/torch_basic.ipynb#ch0000042?line=2'>3</a>\u001b[0m trainloader \u001b[39m=\u001b[39m DataLoader(trainset,batch_size \u001b[39m=\u001b[39m \u001b[39m1\u001b[39m, shuffle \u001b[39m=\u001b[39m \u001b[39mFalse\u001b[39;00m)\n",
      "File \u001b[0;32m~/anaconda3/envs/torch/lib/python3.9/site-packages/torchvision/datasets/cifar.py:68\u001b[0m, in \u001b[0;36mCIFAR10.__init__\u001b[0;34m(self, root, train, transform, target_transform, download)\u001b[0m\n\u001b[1;32m     <a href='file:///home/seokjong/anaconda3/envs/torch/lib/python3.9/site-packages/torchvision/datasets/cifar.py?line=64'>65</a>\u001b[0m     \u001b[39mself\u001b[39m\u001b[39m.\u001b[39mdownload()\n\u001b[1;32m     <a href='file:///home/seokjong/anaconda3/envs/torch/lib/python3.9/site-packages/torchvision/datasets/cifar.py?line=66'>67</a>\u001b[0m \u001b[39mif\u001b[39;00m \u001b[39mnot\u001b[39;00m \u001b[39mself\u001b[39m\u001b[39m.\u001b[39m_check_integrity():\n\u001b[0;32m---> <a href='file:///home/seokjong/anaconda3/envs/torch/lib/python3.9/site-packages/torchvision/datasets/cifar.py?line=67'>68</a>\u001b[0m     \u001b[39mraise\u001b[39;00m \u001b[39mRuntimeError\u001b[39;00m(\u001b[39m\"\u001b[39m\u001b[39mDataset not found or corrupted. You can use download=True to download it\u001b[39m\u001b[39m\"\u001b[39m)\n\u001b[1;32m     <a href='file:///home/seokjong/anaconda3/envs/torch/lib/python3.9/site-packages/torchvision/datasets/cifar.py?line=69'>70</a>\u001b[0m \u001b[39mif\u001b[39;00m \u001b[39mself\u001b[39m\u001b[39m.\u001b[39mtrain:\n\u001b[1;32m     <a href='file:///home/seokjong/anaconda3/envs/torch/lib/python3.9/site-packages/torchvision/datasets/cifar.py?line=70'>71</a>\u001b[0m     downloaded_list \u001b[39m=\u001b[39m \u001b[39mself\u001b[39m\u001b[39m.\u001b[39mtrain_list\n",
      "\u001b[0;31mRuntimeError\u001b[0m: Dataset not found or corrupted. You can use download=True to download it"
     ]
    }
   ],
   "source": [
    "# ./class 밑으로 파일들이 존재하며 파일명은 class명, 내부에는 각 class의 이미지들이 들어있다. \n",
    "transf = tr.Compose([tr.Resize(128),tr.ToTensor()])\n",
    "trainset = torchvision.datasets.CIFAR10(root='./class', transform = transf)\n",
    "trainloader = DataLoader(trainset,batch_size = 1, shuffle = False)\n"
   ]
  },
  {
   "cell_type": "markdown",
   "metadata": {},
   "source": [
    "### 3-3.정리되지 않은 커스텀 데이터 불러오기 \n",
    "\n",
    "위처럼 데이터셋이 잘 정리되어 있는 경우 간단하게 사용하는 것이 가능하지만 대부분 그렇지 못하다.\n",
    "또한 다른 작업들과 공유된 데이터인 경우 폴더를 함부로 정리하는 것이 힘들고 이미지 데이터라도 이미지가 아닌 텍스트, 리스트,배열 등의 다른 형태로 저장되어 있는 경우도 있다. \n",
    "\n",
    "이러한 경우 다음 양식에 맞춰 커스텀 데이터를 불러오는 방법을 이용해야 한다. "
   ]
  },
  {
   "cell_type": "code",
   "execution_count": 6,
   "metadata": {},
   "outputs": [],
   "source": [
    "from torch.utils.data import Dataset \n",
    "\n",
    "class imsi(Dataset): # Dataset을 상속받아 DataLoader에서 배치단위로 불러올 수 있게 해준다. \n",
    "\n",
    "    def __init__(self): # 데이터 세팅에 필요한 것들을 미리 정의 \n",
    "        pass\n",
    " \n",
    "    def __getitem__(self,indwx): # DataLoader를 통해 샘플이 요청되면 이 메소드가 호출되며 샘플을 반환해준다. \n",
    "        pass\n",
    "\n",
    "    def __len__(self):  # 크기를 반환 \n",
    "        pass \n"
   ]
  },
  {
   "cell_type": "code",
   "execution_count": 19,
   "metadata": {},
   "outputs": [],
   "source": [
    "train_images = np.random.randint(256,size=(100,32,32,3))/255\n",
    "train_labels = np.random.randint(2,size = (100,1))\n",
    "\n",
    "\n",
    "class TensorData(Dataset):\n",
    "\n",
    "    def __init__(self,x_data, y_data):\n",
    "        self.x_data = torch.FloatTensor(x_data)\n",
    "        self.x_data = self.x_data.permute(0,3,1,2)\n",
    "        self.y_data = torch.LongTensor(y_data)\n",
    "        self.len = self.y_data.shape[0]\n",
    "\n",
    "    def __getitem__(self, index):\n",
    "        return self.x_data[index],self.y_data[index]\n",
    "\n",
    "    def __len__(self):\n",
    "        return self.len\n"
   ]
  },
  {
   "cell_type": "code",
   "execution_count": 20,
   "metadata": {},
   "outputs": [],
   "source": [
    "train_data = TensorData(train_images,train_labels)\n",
    "train_loader = DataLoader(train_data,batch_size = 10,shuffle = True)\n"
   ]
  },
  {
   "cell_type": "code",
   "execution_count": 26,
   "metadata": {},
   "outputs": [
    {
     "name": "stdout",
     "output_type": "stream",
     "text": [
      "torch.Size([10, 3, 32, 32])\n",
      "torch.Size([10, 1])\n"
     ]
    }
   ],
   "source": [
    "x = iter(train_loader).next()\n",
    "print(x[0].shape)\n",
    "print(x[1].shape)"
   ]
  },
  {
   "cell_type": "markdown",
   "metadata": {},
   "source": [
    "### 3-4.커스텀 데이터와 커스텀 전처리 사용하기\n",
    "\n",
    "커스텀데이터셋을 사용하다보면 해당데이터셋에 맞는 전처리 기능을 직접 구현해야 할 경우가 있다. \n",
    "직접 구현해 보자 "
   ]
  },
  {
   "cell_type": "code",
   "execution_count": 46,
   "metadata": {},
   "outputs": [],
   "source": [
    "class ToTensor:\n",
    "    def __call__(self, sample):\n",
    "        inputs,labels = sample\n",
    "        inputs = torch.FloatTensor(inputs)\n",
    "        inputs = inputs.permute(2,0,1)\n",
    "        return inputs,torch.LongTensor(labels)\n",
    "\n",
    "class CutOut:\n",
    "    def __init__(self,ratio = .5):\n",
    "        self.ratio = int(1/ratio)\n",
    "\n",
    "    def __call__(self, sample):\n",
    "        inputs, labels = sample\n",
    "        active = int(np.random.randint(0,self.ratio,1))\n",
    "\n",
    "        if active ==0:\n",
    "            _, w, h = inputs.size()\n",
    "            min_len = min(w,h)\n",
    "            box_size = int(min_len//4)\n",
    "            idx = int(np.random.randint(0,min_len-box_size,1))\n",
    "            inputs[:,idx:idx+box_size,idx:idx+box_size] = 0\n",
    "\n",
    "        return inputs, labels"
   ]
  },
  {
   "cell_type": "code",
   "execution_count": 47,
   "metadata": {},
   "outputs": [],
   "source": [
    "class MyDataset(Dataset):\n",
    "\n",
    "    def __init__(self, x_data, y_data, transform = None):\n",
    "        self.x_data = x_data\n",
    "        self.y_data = y_data\n",
    "        self.transform = transform\n",
    "        self.len = len(y_data)\n",
    "        self.tensor = ToTensor()\n",
    "\n",
    "    def __getitem__(self, index):\n",
    "        sample = self.x_data[index], self.y_data[index]\n",
    "\n",
    "        if self.transform:\n",
    "            sample = self.transform(sample)\n",
    "        else:\n",
    "            sample = self.tensor(sample)\n",
    "        return sample\n",
    "\n",
    "\n",
    "    def __len__(self):\n",
    "        return self.len\n",
    "\n",
    "            \n"
   ]
  },
  {
   "cell_type": "code",
   "execution_count": 48,
   "metadata": {},
   "outputs": [],
   "source": [
    "train_images = np.random.randint(256,size=(100,32,32,3))/255\n",
    "train_labels = np.random.randint(2,size = (100,1))\n",
    "\n",
    "trans = tr.Compose([ToTensor(),CutOut()])\n",
    "dataset1 = MyDataset(train_images,train_labels, transform = trans)\n",
    "train_loader1 = DataLoader(dataset1,batch_size = 10, shuffle = True)\n"
   ]
  },
  {
   "cell_type": "code",
   "execution_count": 57,
   "metadata": {},
   "outputs": [
    {
     "data": {
      "image/png": "[encoded data removed]",
      "text/plain": [
       "<Figure size 720x7200 with 1 Axes>"
      ]
     },
     "metadata": {
      "needs_background": "light"
     },
     "output_type": "display_data"
    }
   ],
   "source": [
    "import torchvision\n",
    "images1, labels1 = iter(train_loader1).next()\n",
    "\n",
    "def imshow(img):\n",
    "    plt.figure(figsize = (10,100))\n",
    "    plt.imshow(img.permute(1,2,0).numpy()) # tensor -> numpy / cwh -> whc \n",
    "    plt.show()\n",
    "\n",
    "# imshow(images1[0])\n",
    "imshow(torchvision.utils.make_grid(images1,nrow=10))"
   ]
  },
  {
   "cell_type": "code",
   "execution_count": null,
   "metadata": {},
   "outputs": [],
   "source": []
  }
 ],
 "metadata": {
  "interpreter": {
   "hash": "c67384690aacdcb3a89078affff7a8b1615538daeccbff8c2a37b63793d076f9"
  },
  "kernelspec": {
   "display_name": "Python 3.9.12 ('torch': conda)",
   "language": "python",
   "name": "python3"
  },
  "language_info": {
   "codemirror_mode": {
    "name": "ipython",
    "version": 3
   },
   "file_extension": ".py",
   "mimetype": "text/x-python",
   "name": "python",
   "nbconvert_exporter": "python",
   "pygments_lexer": "ipython3",
   "version": "3.9.12"
  },
  "orig_nbformat": 4
 },
 "nbformat": 4,
 "nbformat_minor": 2
}
