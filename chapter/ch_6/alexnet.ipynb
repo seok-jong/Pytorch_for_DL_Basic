{
 "cells": [
  {
   "cell_type": "markdown",
   "metadata": {},
   "source": [
    "# AlexNet 구현 \n",
    "\n",
    "Image Classification의 전성기를 연 AlexNet을 구현해 본다.   \n",
    "AlexNet은 처음으로 Conv를 사용한 DNN구조를 적용시켰으며 Image Classification 분야에서 큰 성능향상을 가져왔다. "
   ]
  },
  {
   "cell_type": "code",
   "execution_count": 58,
   "metadata": {},
   "outputs": [],
   "source": [
    "import torch\n",
    "import torchvision\n",
    "import torchvision.transforms as transforms\n",
    "from torch.utils.data import DataLoader\n",
    "import torch.nn as nn\n",
    "import torch.nn.functional as F\n",
    "import torch.optim as optim\n",
    "import matplotlib.pyplot as plt\n",
    "import numpy as np"
   ]
  },
  {
   "cell_type": "markdown",
   "metadata": {},
   "source": [
    "## 1.Dataset "
   ]
  },
  {
   "cell_type": "code",
   "execution_count": 2,
   "metadata": {},
   "outputs": [],
   "source": [
    "# dataset에 적용할 augmentation을 설정한다. \n",
    "# augmentation은 torchvision의 transforms를 사용하여 구성한다. \n",
    "transform = transforms.Compose([transforms.ToTensor(),transforms.Normalize((0.5,0.5,0.5),(0.5,0.5,0.5))])\n",
    "\n",
    "# dataset 불러오기 \n",
    "trainset = torchvision.datasets.CIFAR10('../../data/',train = True, transform = transform)\n",
    "testset = torchvision.datasets.CIFAR10('../../data/',train = False, transform = transform)\n"
   ]
  },
  {
   "cell_type": "code",
   "execution_count": 3,
   "metadata": {},
   "outputs": [],
   "source": [
    "trainloader = DataLoader(trainset,batch_size = 32,shuffle = True)\n",
    "testloader = DataLoader(testset,batch_size = 32, shuffle = False)"
   ]
  },
  {
   "cell_type": "markdown",
   "metadata": {},
   "source": [
    "## 2.Device 정의"
   ]
  },
  {
   "cell_type": "code",
   "execution_count": 4,
   "metadata": {},
   "outputs": [
    {
     "name": "stdout",
     "output_type": "stream",
     "text": [
      "cuda:0 is available\n"
     ]
    }
   ],
   "source": [
    "device = torch.device(\"cuda:0\" if torch.cuda.is_available() else \"cpu\")\n",
    "print(f\"{device} is available\")"
   ]
  },
  {
   "cell_type": "markdown",
   "metadata": {},
   "source": [
    "## 3.AlexNet구축 "
   ]
  },
  {
   "cell_type": "code",
   "execution_count": 42,
   "metadata": {},
   "outputs": [],
   "source": [
    "class AlexNet(nn.Module):\n",
    "    \"\"\"\n",
    "    AlexNet 직접구현 \n",
    "    \"\"\"\n",
    "    def __init__(self):\n",
    "        super().__init__()\n",
    "        self.features = nn.Sequential(\n",
    "            nn.Conv2d(3,64,3),nn.ReLU(),\n",
    "            nn.MaxPool2d(2,2),\n",
    "            nn.Conv2d(64,192,3,padding = 1),nn.ReLU(),\n",
    "            nn.MaxPool2d(2,2),\n",
    "            nn.Conv2d(192,384,3,padding = 1),nn.ReLU(),\n",
    "            nn.Conv2d(384,256,3,padding = 1),nn.ReLU(),\n",
    "            nn.Conv2d(256,256,1),nn.ReLU(),\n",
    "            nn.MaxPool2d(2,2)\n",
    "        )\n",
    "\n",
    "        self.classifier = nn.Sequential(\n",
    "            nn.Dropout(0.5),\n",
    "            nn.Linear(256*3*3,1024),nn.ReLU(),\n",
    "            nn.Dropout(0.5),\n",
    "            nn.Linear(1024,512),nn.ReLU(),\n",
    "            nn.Linear(512,10)\n",
    "        )\n",
    "\n",
    "    def forward(self,x):\n",
    "        x = self.features(x)\n",
    "        x = x.view(-1,256*3*3)\n",
    "        x = self.classifier(x)\n",
    "        return x\n"
   ]
  },
  {
   "cell_type": "code",
   "execution_count": 43,
   "metadata": {},
   "outputs": [],
   "source": [
    "criterion = nn.CrossEntropyLoss()\n",
    "alexnet = AlexNet().to(device)\n",
    "optimizer = optim.Adam(alexnet.parameters(),lr = 1e-3)\n"
   ]
  },
  {
   "cell_type": "markdown",
   "metadata": {},
   "source": [
    "## 3.학습"
   ]
  },
  {
   "cell_type": "code",
   "execution_count": 44,
   "metadata": {},
   "outputs": [
    {
     "name": "stdout",
     "output_type": "stream",
     "text": [
      "[1] loss: 1.620\n",
      "[2] loss: 1.190\n",
      "[3] loss: 1.005\n",
      "[4] loss: 0.882\n",
      "[5] loss: 0.799\n",
      "[6] loss: 0.731\n",
      "[7] loss: 0.688\n",
      "[8] loss: 0.637\n",
      "[9] loss: 0.599\n",
      "[10] loss: 0.557\n",
      "[11] loss: 0.534\n",
      "[12] loss: 0.505\n",
      "[13] loss: 0.480\n",
      "[14] loss: 0.453\n",
      "[15] loss: 0.435\n",
      "[16] loss: 0.411\n",
      "[17] loss: 0.395\n",
      "[18] loss: 0.372\n",
      "[19] loss: 0.359\n",
      "[20] loss: 0.353\n",
      "[21] loss: 0.330\n",
      "[22] loss: 0.325\n",
      "[23] loss: 0.324\n",
      "[24] loss: 0.300\n",
      "[25] loss: 0.300\n",
      "[26] loss: 0.276\n",
      "[27] loss: 0.266\n",
      "[28] loss: 0.270\n",
      "[29] loss: 0.275\n",
      "[30] loss: 0.252\n",
      "[31] loss: 0.257\n",
      "[32] loss: 0.242\n",
      "[33] loss: 0.249\n",
      "[34] loss: 0.230\n",
      "[35] loss: 0.242\n",
      "[36] loss: 0.242\n",
      "[37] loss: 0.232\n",
      "[38] loss: 0.235\n",
      "[39] loss: 0.239\n",
      "[40] loss: 0.239\n",
      "[41] loss: 0.214\n",
      "[42] loss: 0.225\n",
      "[43] loss: 0.233\n",
      "[44] loss: 0.215\n",
      "[45] loss: 0.238\n",
      "[46] loss: 0.221\n",
      "[47] loss: 0.221\n",
      "[48] loss: 0.211\n",
      "[49] loss: 0.217\n",
      "[50] loss: 0.238\n"
     ]
    }
   ],
   "source": [
    "loss_ = []\n",
    "n = len(trainloader)\n",
    "\n",
    "for epoch in range(50):\n",
    "    running_loss = 0\n",
    "    for data in trainloader:\n",
    "        x,y = data[0].to(device),data[1].to(device)\n",
    "        optimizer.zero_grad()\n",
    "        y_hat = alexnet(x)\n",
    "        loss = criterion(y_hat,y)\n",
    "        loss.backward()\n",
    "        optimizer.step()\n",
    "        running_loss +=loss.item()\n",
    "\n",
    "    loss_.append(running_loss/n)\n",
    "    print(\"[%d] loss: %.3f\"%(epoch+1,running_loss/n))\n"
   ]
  },
  {
   "cell_type": "code",
   "execution_count": 47,
   "metadata": {},
   "outputs": [
    {
     "data": {
      "image/png": "[encoded data removed]",
      "text/plain": [
       "<Figure size 432x288 with 1 Axes>"
      ]
     },
     "metadata": {
      "needs_background": "light"
     },
     "output_type": "display_data"
    }
   ],
   "source": [
    "plt.plot(loss_)\n",
    "plt.title('Training LOSS')\n",
    "plt.xlabel(\"epoch\")\n",
    "plt.show()"
   ]
  },
  {
   "cell_type": "markdown",
   "metadata": {},
   "source": [
    "## 4.모델 저장 및 불러오기 "
   ]
  },
  {
   "cell_type": "code",
   "execution_count": 67,
   "metadata": {},
   "outputs": [],
   "source": [
    "path = './models/cifar_alexnet.pth'\n",
    "torch.save(alexnet.state_dict(),path)"
   ]
  },
  {
   "cell_type": "code",
   "execution_count": 68,
   "metadata": {},
   "outputs": [
    {
     "data": {
      "text/plain": [
       "<All keys matched successfully>"
      ]
     },
     "execution_count": 68,
     "metadata": {},
     "output_type": "execute_result"
    }
   ],
   "source": [
    "alexnet = AlexNet().to(device)\n",
    "alexnet.load_state_dict(torch.load(path))"
   ]
  },
  {
   "cell_type": "markdown",
   "metadata": {},
   "source": [
    "## 5.평가"
   ]
  },
  {
   "cell_type": "code",
   "execution_count": 84,
   "metadata": {},
   "outputs": [
    {
     "name": "stdout",
     "output_type": "stream",
     "text": [
      "Test Accuracy: 75.740%\n"
     ]
    }
   ],
   "source": [
    "correct = 0\n",
    "total = 0\n",
    "\n",
    "with torch.no_grad():\n",
    "    alexnet.eval()\n",
    "    for data in testloader:\n",
    "        x,y = data[0].to(device),data[1].to(device)\n",
    "        y_hat = alexnet(x)\n",
    "        _,predicted = torch.max(y_hat,1)\n",
    "        total += y.size(0)\n",
    "        correct += (predicted == y).sum().item()\n",
    "\n",
    "print('Test Accuracy: %.3f%%'%(100*correct/total))"
   ]
  },
  {
   "cell_type": "code",
   "execution_count": null,
   "metadata": {},
   "outputs": [],
   "source": []
  }
 ],
 "metadata": {
  "interpreter": {
   "hash": "c67384690aacdcb3a89078affff7a8b1615538daeccbff8c2a37b63793d076f9"
  },
  "kernelspec": {
   "display_name": "Python 3.9.12 ('torch')",
   "language": "python",
   "name": "python3"
  },
  "language_info": {
   "codemirror_mode": {
    "name": "ipython",
    "version": 3
   },
   "file_extension": ".py",
   "mimetype": "text/x-python",
   "name": "python",
   "nbconvert_exporter": "python",
   "pygments_lexer": "ipython3",
   "version": "3.9.12"
  },
  "orig_nbformat": 4
 },
 "nbformat": 4,
 "nbformat_minor": 2
}
