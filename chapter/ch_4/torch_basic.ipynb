{
 "cells": [
  {
   "cell_type": "markdown",
   "metadata": {},
   "source": [
    "# 파이토치 기본"
   ]
  },
  {
   "cell_type": "code",
   "execution_count": 9,
   "metadata": {},
   "outputs": [
    {
     "name": "stdout",
     "output_type": "stream",
     "text": [
      "1.11.0\n",
      "True\n"
     ]
    }
   ],
   "source": [
    "import torch\n",
    "import numpy as np\n",
    "\n",
    "print(torch.__version__)\n",
    "print(torch.cuda.is_available())"
   ]
  },
  {
   "cell_type": "markdown",
   "metadata": {},
   "source": [
    "## 1. 여러가지 텐서"
   ]
  },
  {
   "cell_type": "code",
   "execution_count": 18,
   "metadata": {},
   "outputs": [
    {
     "name": "stdout",
     "output_type": "stream",
     "text": [
      "x1 :  tensor([[1.6923e+16, 4.5792e-41, 1.6923e+16, 4.5792e-41],\n",
      "        [0.0000e+00, 0.0000e+00, 0.0000e+00, 0.0000e+00],\n",
      "        [0.0000e+00, 0.0000e+00, 7.7052e+31, 1.9447e+31],\n",
      "        [2.1715e-18, 2.3081e-12, 1.8590e+34, 7.7767e+31],\n",
      "        [1.7181e+19, 1.8990e+28, 1.5766e-19, 1.4587e-19]]) \n",
      "\n",
      "x2 :  tensor([[1., 1., 1.],\n",
      "        [1., 1., 1.],\n",
      "        [1., 1., 1.]]) \n",
      "\n",
      "x3 :  tensor([[0., 0.],\n",
      "        [0., 0.]]) \n",
      "\n",
      "x4 :  tensor([[0.8318, 0.5497, 0.4598],\n",
      "        [0.5942, 0.2355, 0.6335]]) \n",
      "\n"
     ]
    }
   ],
   "source": [
    "# 빈 텐서 생성 - 초기화되지 않으면 해당 시점에 할당된 메모리에 존재하던 값이 들어감 \n",
    "x1 = torch.empty(5,4)\n",
    "print('x1 : ',x1,'\\n')\n",
    "\n",
    "# 1로 채워진 텐서 생성 \n",
    "x2 = torch.ones(3,3)\n",
    "print('x2 : ',x2,'\\n')\n",
    "\n",
    "# 0으로 채워진 텐서 생성 \n",
    "x3 = torch.zeros(2,2)\n",
    "print('x3 : ',x3,'\\n')\n",
    "\n",
    "# 무작위값 텐서 생성 ( 0 ~ 1 사잇값 )\n",
    "x4 = torch.rand(2,3)\n",
    "print('x4 : ',x4,'\\n')"
   ]
  },
  {
   "cell_type": "markdown",
   "metadata": {},
   "source": [
    "## 리스트, 넘파이 배열 to Tensor\n",
    "\n",
    "`torch.tensor()`를 통해 tensor로 변환이 가능하며   \n",
    "`torch.FloatTensor()`나 `torch.LongTensor()`를 통해서도 가능하다. "
   ]
  },
  {
   "cell_type": "code",
   "execution_count": 22,
   "metadata": {},
   "outputs": [
    {
     "name": "stdout",
     "output_type": "stream",
     "text": [
      "<class 'list'>\n",
      "<class 'numpy.ndarray'>\n",
      "---to tensor---\n",
      "<class 'torch.Tensor'>\n",
      "<class 'torch.Tensor'>\n"
     ]
    }
   ],
   "source": [
    "l = [13,4]\n",
    "r = np.array([4,56,7])\n",
    "print(type(l))\n",
    "print(type(r))\n",
    "\n",
    "print('---to tensor---')\n",
    "\n",
    "l = torch.tensor(l)\n",
    "r = torch.tensor(r)\n",
    "print(type(l))\n",
    "print(type(r))\n"
   ]
  },
  {
   "cell_type": "code",
   "execution_count": null,
   "metadata": {},
   "outputs": [],
   "source": []
  }
 ],
 "metadata": {
  "interpreter": {
   "hash": "c67384690aacdcb3a89078affff7a8b1615538daeccbff8c2a37b63793d076f9"
  },
  "kernelspec": {
   "display_name": "Python 3.9.12 ('torch')",
   "language": "python",
   "name": "python3"
  },
  "language_info": {
   "codemirror_mode": {
    "name": "ipython",
    "version": 3
   },
   "file_extension": ".py",
   "mimetype": "text/x-python",
   "name": "python",
   "nbconvert_exporter": "python",
   "pygments_lexer": "ipython3",
   "version": "3.9.12"
  },
  "orig_nbformat": 4
 },
 "nbformat": 4,
 "nbformat_minor": 2
}
