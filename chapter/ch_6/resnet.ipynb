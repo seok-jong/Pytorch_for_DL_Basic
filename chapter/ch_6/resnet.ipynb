{
 "cells": [
  {
   "cell_type": "markdown",
   "metadata": {},
   "source": [
    "# ResNet 구현 \n",
    "\n",
    "ResNet을 구현해 본다.   \n",
    "ResNet은 AlexNet이후에 image classification에 큰 성장을 가져온 모델이다.  \n",
    "기존의 CNN을 이용한 DNN방식은 층을 깊게할 수록 성능이 더 좋아지는 양상을 보였지만 너무깊어지면 부작용이 일어났다. 가중치 소실, 폭발등이 그 예이다.     \n",
    "\n",
    "ResNet은 위 문제를 해결하기 위해 Conv연산의 연속적인 적용이 아닌 중간중간 conv층을 뛰어넘어 값을 전달한다.   \n",
    "이러한 방법으로 가중치소실등의 문제를 어느정도 해결하는 것이 가능했고 층을 더욱 깊이쌓을 수 있어 성능도 올리는 결과를 도출했다. \n",
    "\n"
   ]
  },
  {
   "cell_type": "markdown",
   "metadata": {},
   "source": [
    "1. Load Dataset \n",
    "2. Dataset Preprocessing\n",
    "3. Define Model\n",
    "4. Train\n",
    "5. Evaluation\n"
   ]
  },
  {
   "cell_type": "code",
   "execution_count": 1,
   "metadata": {},
   "outputs": [],
   "source": [
    "import torch \n",
    "from torch.utils.data import DataLoader\n",
    "import torchvision\n",
    "import torchvision.transforms as transforms\n",
    "import matplotlib.pyplot as plt\n"
   ]
  },
  {
   "cell_type": "code",
   "execution_count": 2,
   "metadata": {},
   "outputs": [],
   "source": [
    "transform = transforms.Compose([transforms.ToTensor(),transforms.Normalize((0.5,0.5,0.5),(0.5,0.5,0.5))])\n",
    "\n",
    "trainset = torchvision.datasets.CIFAR10(root = '../../data',train = True, transform = transform)\n",
    "testset = torchvision.datasets.CIFAR10(root = '../../data',train = False, transform = transform)\n",
    "trainloader = DataLoader(trainset,batch_size = 32,shuffle = True)\n",
    "testloader = DataLoader(testset,batch_size = 32,shuffle = False)"
   ]
  },
  {
   "cell_type": "code",
   "execution_count": 5,
   "metadata": {},
   "outputs": [
    {
     "name": "stdout",
     "output_type": "stream",
     "text": [
      "torch.Size([32, 3, 32, 32])\n"
     ]
    }
   ],
   "source": [
    "a = iter(trainloader).next()\n",
    "print(a[0].shape)"
   ]
  },
  {
   "cell_type": "code",
   "execution_count": 7,
   "metadata": {},
   "outputs": [
    {
     "name": "stdout",
     "output_type": "stream",
     "text": [
      "cuda:0 is available\n"
     ]
    }
   ],
   "source": [
    "device = torch.device('cuda:0' if torch.cuda.is_available() else \"cpu\")\n",
    "print(f'{device} is available')"
   ]
  },
  {
   "cell_type": "markdown",
   "metadata": {},
   "source": [
    "![image](image.png)"
   ]
  },
  {
   "cell_type": "code",
   "execution_count": null,
   "metadata": {},
   "outputs": [],
   "source": [
    "class ResidualBlock(nn.Module):\n",
    "    '''\n",
    "    (conv + BN + ReLU) * 2 의 block을 생성 -> input/output channel에 따른 \n",
    "    '''\n",
    "\n",
    "    def __init__(self, in_channels,out_channels,stride=1):\n",
    "        super().__init__()\n",
    "        self.stride = stride\n",
    "        self.in_channels = in_channels\n",
    "        self.out_channels = out_channels \n",
    "        self.conv_block = nn.Sequential(\n",
    "            nn.Conv2d(),\n",
    "            nn.BatchNorm2d()\n",
    "            nn.ReLU(),\n",
    "            nn.Conv2d(),\n",
    "            nn.BatchNorm2d()\n",
    "        )\n",
    "\n",
    "        if self.stride != 1 or self.in_channels != self.out_channels:\n",
    "            \n",
    "        "
   ]
  },
  {
   "cell_type": "code",
   "execution_count": null,
   "metadata": {},
   "outputs": [],
   "source": [
    "class ResNet(nn.Module):\n",
    "    '''\n",
    "    ResNet 구현 \n",
    "    '''\n",
    "    def __init__(self):\n",
    "\n",
    "        \n",
    "        "
   ]
  }
 ],
 "metadata": {
  "interpreter": {
   "hash": "c67384690aacdcb3a89078affff7a8b1615538daeccbff8c2a37b63793d076f9"
  },
  "kernelspec": {
   "display_name": "Python 3.9.12 ('torch')",
   "language": "python",
   "name": "python3"
  },
  "language_info": {
   "codemirror_mode": {
    "name": "ipython",
    "version": 3
   },
   "file_extension": ".py",
   "mimetype": "text/x-python",
   "name": "python",
   "nbconvert_exporter": "python",
   "pygments_lexer": "ipython3",
   "version": "3.9.12"
  },
  "orig_nbformat": 4
 },
 "nbformat": 4,
 "nbformat_minor": 2
}
